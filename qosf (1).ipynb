{
 "cells": [
  {
   "cell_type": "code",
   "execution_count": 14,
   "metadata": {},
   "outputs": [
    {
     "data": {
      "image/png": "[encoded data removed]",
      "text/plain": [
       "<Figure size 748.797x264.88 with 1 Axes>"
      ]
     },
     "metadata": {},
     "output_type": "display_data"
    },
    {
     "name": "stdout",
     "output_type": "stream",
     "text": [
      "{'110': 100}\n"
     ]
    }
   ],
   "source": [
    "# import all necessary objects and methods for quantum circuits\n",
    "from qiskit import QuantumRegister, ClassicalRegister, QuantumCircuit, execute, Aer\n",
    "\n",
    "\n",
    "q =  QuantumRegister(3,\"q\") # quantum register with 3 qubits\n",
    "c = ClassicalRegister(3,\"c\") # classical register with 3 bits\n",
    "\n",
    "qc = QuantumCircuit(q,c) # quantum circuit with quantum and classical registers\n",
    "\n",
    "#Apply a CNOT gate to ancillary qubits\n",
    "qc.cx(q[0],q[1])\n",
    "qc.cx(q[0],q[2])\n",
    "\n",
    "\n",
    "#Apply a Hadamard gate to all qubits \n",
    "qc.h(q[0])\n",
    "qc.h(q[1])\n",
    "qc.h(q[2])\n",
    "\n",
    "#Simulate a Phase flip\n",
    "qc.z(q[0])\n",
    "\n",
    "#Bring qubits out of superposition by applying Hadamard gates again\n",
    "qc.h(q[0])\n",
    "qc.h(q[1])\n",
    "qc.h(q[2])\n",
    "\n",
    "\n",
    "#Again apply CNOT gates to ancillary qubits\n",
    "qc.cx(q[0],q[1])\n",
    "qc.cx(q[0],q[2])\n",
    "\n",
    "#Apply a Toffoli gate to the main qubit\n",
    "qc.ccx(q[2],q[1],q[0])\n",
    "\n",
    "\n",
    "qc.measure(q,c)\n",
    "\n",
    "\n",
    "\n",
    "# draw the circuit in Qiskit reading order\n",
    "display(qc.draw(output='mpl',reverse_bits=True))\n",
    "\n",
    "\n",
    "# execute the circuit 100 times in the local simulator\n",
    "job = execute(qc,Aer.get_backend('qasm_simulator'),shots=100)\n",
    "counts = job.result().get_counts(qc)\n",
    "print(counts)\n"
   ]
  },
  {
   "cell_type": "code",
   "execution_count": null,
   "metadata": {},
   "outputs": [],
   "source": []
  }
 ],
 "metadata": {
  "kernelspec": {
   "display_name": "Python 3",
   "language": "python",
   "name": "python3"
  },
  "language_info": {
   "codemirror_mode": {
    "name": "ipython",
    "version": 3
   },
   "file_extension": ".py",
   "mimetype": "text/x-python",
   "name": "python",
   "nbconvert_exporter": "python",
   "pygments_lexer": "ipython3",
   "version": "3.7.6"
  }
 },
 "nbformat": 4,
 "nbformat_minor": 4
}
